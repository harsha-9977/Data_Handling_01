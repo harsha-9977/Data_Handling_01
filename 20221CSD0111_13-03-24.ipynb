{
  "nbformat": 4,
  "nbformat_minor": 0,
  "metadata": {
    "colab": {
      "provenance": []
    },
    "kernelspec": {
      "name": "python3",
      "display_name": "Python 3"
    },
    "language_info": {
      "name": "python"
    }
  },
  "cells": [
    {
      "cell_type": "code",
      "execution_count": 1,
      "metadata": {
        "id": "iMbB0eHWuvPv"
      },
      "outputs": [],
      "source": [
        "import requests"
      ]
    },
    {
      "cell_type": "code",
      "source": [
        "!pip install --upgrade 'library'"
      ],
      "metadata": {
        "colab": {
          "base_uri": "https://localhost:8080/"
        },
        "id": "3n59HHpTvhuZ",
        "outputId": "b4058a85-0b43-4b01-bc40-059eca0b4114"
      },
      "execution_count": 2,
      "outputs": [
        {
          "output_type": "stream",
          "name": "stdout",
          "text": [
            "Collecting library\n",
            "  Downloading Library-0.0.0.tar.gz (1.4 kB)\n",
            "  Preparing metadata (setup.py) ... \u001b[?25l\u001b[?25hdone\n",
            "Building wheels for collected packages: library\n",
            "  Building wheel for library (setup.py) ... \u001b[?25l\u001b[?25hdone\n",
            "  Created wheel for library: filename=Library-0.0.0-py3-none-any.whl size=2054 sha256=1f859750aa9313d47229c3fe27d6eb729bbe04fb318a281cd64d10967a37aa41\n",
            "  Stored in directory: /root/.cache/pip/wheels/e0/71/7d/b0e29b944e43374597cd4e3b88c85197001c9bfcd5dce191f4\n",
            "Successfully built library\n",
            "Installing collected packages: library\n",
            "Successfully installed library-0.0.0\n"
          ]
        }
      ]
    },
    {
      "cell_type": "code",
      "source": [
        "r=requests.get('https://www.romexchangetext.com/')"
      ],
      "metadata": {
        "id": "nUd2MUdJwEAA"
      },
      "execution_count": null,
      "outputs": []
    },
    {
      "cell_type": "code",
      "source": [
        "r"
      ],
      "metadata": {
        "colab": {
          "base_uri": "https://localhost:8080/"
        },
        "id": "lgHK6YvFyCCp",
        "outputId": "eb86a5f4-c421-46e4-f8b7-c06f9ade345a"
      },
      "execution_count": 8,
      "outputs": [
        {
          "output_type": "execute_result",
          "data": {
            "text/plain": [
              "<Response [406]>"
            ]
          },
          "metadata": {},
          "execution_count": 8
        }
      ]
    },
    {
      "cell_type": "code",
      "source": [
        "r.status_code"
      ],
      "metadata": {
        "colab": {
          "base_uri": "https://localhost:8080/"
        },
        "id": "DvbXsJhbyDUK",
        "outputId": "5b884945-1bb3-4b1c-b280-52d5569f8f64"
      },
      "execution_count": 9,
      "outputs": [
        {
          "output_type": "execute_result",
          "data": {
            "text/plain": [
              "406"
            ]
          },
          "metadata": {},
          "execution_count": 9
        }
      ]
    },
    {
      "cell_type": "code",
      "source": [
        "url='https://upsconline.nic.in//'\n",
        "headers={'Content-type' : 'application/json'}\n",
        "r=requests.get(url, headers = headers)\n",
        "r.text\n",
        "r.content\n",
        "type(r.content)\n",
        "\n"
      ],
      "metadata": {
        "colab": {
          "base_uri": "https://localhost:8080/"
        },
        "id": "cV0h47efyGr4",
        "outputId": "27f63b56-5199-4d61-b916-120ef5ba8526"
      },
      "execution_count": 33,
      "outputs": [
        {
          "output_type": "execute_result",
          "data": {
            "text/plain": [
              "bytes"
            ]
          },
          "metadata": {},
          "execution_count": 33
        }
      ]
    },
    {
      "cell_type": "code",
      "source": [
        "r=requests.get('https://api.github.com/events')\n",
        "r=requests.post('https://httpbin.org/post',\n",
        "data={'key':'value'})\n",
        "r=requests.put('https://httpbin.org/put',\n",
        "               data={'key':'value'})\n",
        "r.content"
      ],
      "metadata": {
        "colab": {
          "base_uri": "https://localhost:8080/"
        },
        "id": "fGi6CPlk3EyZ",
        "outputId": "ddd79ae9-7f2e-416c-d227-ef9c699d9e00"
      },
      "execution_count": 37,
      "outputs": [
        {
          "output_type": "execute_result",
          "data": {
            "text/plain": [
              "b'{\\n  \"args\": {}, \\n  \"data\": \"\", \\n  \"files\": {}, \\n  \"form\": {\\n    \"key\": \"value\"\\n  }, \\n  \"headers\": {\\n    \"Accept\": \"*/*\", \\n    \"Accept-Encoding\": \"gzip, deflate\", \\n    \"Content-Length\": \"9\", \\n    \"Content-Type\": \"application/x-www-form-urlencoded\", \\n    \"Host\": \"httpbin.org\", \\n    \"User-Agent\": \"python-requests/2.31.0\", \\n    \"X-Amzn-Trace-Id\": \"Root=1-65f1603e-30e07dc33a00ec9f59163363\"\\n  }, \\n  \"json\": null, \\n  \"origin\": \"34.150.175.172\", \\n  \"url\": \"https://httpbin.org/put\"\\n}\\n'"
            ]
          },
          "metadata": {},
          "execution_count": 37
        }
      ]
    },
    {
      "cell_type": "code",
      "source": [
        "r.encoding"
      ],
      "metadata": {
        "colab": {
          "base_uri": "https://localhost:8080/",
          "height": 35
        },
        "id": "d3PNKV7Y5RVX",
        "outputId": "e9b83bfd-fcc7-4d11-e4b3-eb28a9678c81"
      },
      "execution_count": 39,
      "outputs": [
        {
          "output_type": "execute_result",
          "data": {
            "text/plain": [
              "'utf-8'"
            ],
            "application/vnd.google.colaboratory.intrinsic+json": {
              "type": "string"
            }
          },
          "metadata": {},
          "execution_count": 39
        }
      ]
    },
    {
      "cell_type": "markdown",
      "source": [
        "lhs is default and rhs is changable"
      ],
      "metadata": {
        "id": "AqzcrwlXzyxo"
      }
    },
    {
      "cell_type": "code",
      "source": [
        "url='https://www.bseindia.com/sensexwss'"
      ],
      "metadata": {
        "id": "pQj6URGf7tUv"
      },
      "execution_count": 40,
      "outputs": []
    }
  ]
}